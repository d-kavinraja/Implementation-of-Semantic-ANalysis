{
 "cells": [
  {
   "cell_type": "code",
   "execution_count": 1,
   "metadata": {},
   "outputs": [
    {
     "name": "stdout",
     "output_type": "stream",
     "text": [
      "Defaulting to user installation because normal site-packages is not writeable\n",
      "Collecting nltk\n",
      "  Using cached nltk-3.9.1-py3-none-any.whl.metadata (2.9 kB)\n",
      "Requirement already satisfied: click in c:\\program files\\python310\\lib\\site-packages (from nltk) (8.1.7)\n",
      "Requirement already satisfied: joblib in c:\\program files\\python310\\lib\\site-packages (from nltk) (1.4.2)\n",
      "Requirement already satisfied: regex>=2021.8.3 in c:\\program files\\python310\\lib\\site-packages (from nltk) (2024.7.24)\n",
      "Requirement already satisfied: tqdm in c:\\program files\\python310\\lib\\site-packages (from nltk) (4.66.4)\n",
      "Requirement already satisfied: colorama in c:\\users\\sec\\appdata\\roaming\\python\\python310\\site-packages (from click->nltk) (0.4.6)\n",
      "Downloading nltk-3.9.1-py3-none-any.whl (1.5 MB)\n",
      "   ---------------------------------------- 0.0/1.5 MB ? eta -:--:--\n",
      "   ---------------------------------------- 1.5/1.5 MB 11.3 MB/s eta 0:00:00\n",
      "Installing collected packages: nltk\n",
      "Successfully installed nltk-3.9.1\n"
     ]
    }
   ],
   "source": [
    "! pip install nltk"
   ]
  },
  {
   "cell_type": "code",
   "execution_count": 6,
   "metadata": {},
   "outputs": [
    {
     "name": "stderr",
     "output_type": "stream",
     "text": [
      "[nltk_data] Downloading package punkt to\n",
      "[nltk_data]     C:\\Users\\SEC\\AppData\\Roaming\\nltk_data...\n",
      "[nltk_data]   Package punkt is already up-to-date!\n",
      "[nltk_data] Downloading package averaged_perceptron_tagger to\n",
      "[nltk_data]     C:\\Users\\SEC\\AppData\\Roaming\\nltk_data...\n",
      "[nltk_data]   Package averaged_perceptron_tagger is already up-to-\n",
      "[nltk_data]       date!\n",
      "[nltk_data] Downloading package wordnet to\n",
      "[nltk_data]     C:\\Users\\SEC\\AppData\\Roaming\\nltk_data...\n",
      "[nltk_data]   Package wordnet is already up-to-date!\n",
      "[nltk_data] Downloading package punkt_tab to\n",
      "[nltk_data]     C:\\Users\\SEC\\AppData\\Roaming\\nltk_data...\n",
      "[nltk_data]   Package punkt_tab is already up-to-date!\n",
      "[nltk_data] Downloading package averaged_perceptron_tagger_eng to\n",
      "[nltk_data]     C:\\Users\\SEC\\AppData\\Roaming\\nltk_data...\n",
      "[nltk_data]   Unzipping taggers\\averaged_perceptron_tagger_eng.zip.\n"
     ]
    },
    {
     "name": "stdout",
     "output_type": "stream",
     "text": [
      "Verb: am\n",
      "Synonyms: Master_of_Arts, comprise, exist, follow, atomic_number_95, Artium_Magister, MA, Am, personify, live, AM, embody, be, amplitude_modulation, cost, make_up, equal, represent, constitute, americium\n",
      "\n",
      "Verb: running\n",
      "Synonyms: lead, hightail_it, ladder, unravel, functional, guide, lam, race, carry, extend, function, running_game, linear, feed, track_down, fly_the_coop, melt, operate, running_play, incline, die_hard, tend, course, take_to_the_woods, black_market, run_for, prevail, working, bunk, run, bleed, scarper, be_given, execute, melt_down, hunt, campaign, ply, run_away, break_away, play, running, turn_tail, range, head_for_the_hills, operative, flow, track, pass, scat, move, escape, lean, hunt_down, go, persist, draw, consort, work, endure\n",
      "\n",
      "Verb: catch\n",
      "Synonyms: becharm, taking_into_custody, collar, charm, catch, captivate, trance, gimmick, see, apprehension, snatch, overhear, enchant, fascinate, take_in, entrance, capture, haul, watch, arrest, catch_up_with, hitch, get, grab, stop, match, snap, pick_up, take_hold_of, view, trip_up, pinch, overtake, enamour, bewitch, enamor, beguile\n",
      "\n",
      "Verb: eats\n",
      "Synonyms: consume, eat_up, rust, eat, corrode, grub, exhaust, deplete, chow, use_up, wipe_out, feed, eats, eat_on, run_through, chuck\n",
      "\n"
     ]
    }
   ],
   "source": [
    "import nltk\n",
    "from nltk.corpus import wordnet\n",
    "\n",
    "# Download required NLTK resources\n",
    "nltk.download('punkt')\n",
    "nltk.download('averaged_perceptron_tagger')\n",
    "nltk.download('wordnet')\n",
    "nltk.download('punkt_tab')\n",
    "nltk.download('averaged_perceptron_tagger_eng')\n",
    "\n",
    "# Function to get synonyms of a word using WordNet\n",
    "def get_synonyms(word):\n",
    "    synonyms = set()\n",
    "    for syn in wordnet.synsets(word):\n",
    "        for lemma in syn.lemmas():\n",
    "            synonyms.add(lemma.name())\n",
    "    return synonyms\n",
    "\n",
    "# Function to process a text file (optional usage)\n",
    "def process_text_file(file_path):\n",
    "    with open(file_path, 'r') as file:\n",
    "        text = file.read()\n",
    "    return text  # Return the processed text\n",
    "\n",
    "# Input the text to analyze\n",
    "text = input(\"Enter the text to analyze: \")\n",
    "\n",
    "# Tokenize the text into sentences\n",
    "sentences = nltk.sent_tokenize(text)\n",
    "\n",
    "# Loop through each sentence\n",
    "for sentence in sentences:\n",
    "    # Tokenize each sentence into words\n",
    "    words = nltk.word_tokenize(sentence)\n",
    "\n",
    "    # Perform part-of-speech tagging\n",
    "    pos_tags = nltk.pos_tag(words)\n",
    "\n",
    "    # Extract verbs (POS tags starting with 'V' are verbs)\n",
    "    verbs = [word for word, pos in pos_tags if pos.startswith('V')]\n",
    "\n",
    "    # Get synonyms for each verb and print them\n",
    "    for verb in verbs:\n",
    "        synonyms = get_synonyms(verb)\n",
    "        print(f\"Verb: {verb}\")\n",
    "        print(f\"Synonyms: {', '.join(synonyms) if synonyms else 'No synonyms found'}\\n\")\n"
   ]
  },
  {
   "cell_type": "code",
   "execution_count": 7,
   "metadata": {},
   "outputs": [
    {
     "name": "stdout",
     "output_type": "stream",
     "text": [
      "I am running to catch the bus. He eats an apple.\n"
     ]
    }
   ],
   "source": [
    "input_text = \"I am running to catch the bus. He eats an apple.\"\n",
    "print(input_text)"
   ]
  },
  {
   "cell_type": "code",
   "execution_count": null,
   "metadata": {},
   "outputs": [],
   "source": []
  }
 ],
 "metadata": {
  "kernelspec": {
   "display_name": "Python 3",
   "language": "python",
   "name": "python3"
  },
  "language_info": {
   "codemirror_mode": {
    "name": "ipython",
    "version": 3
   },
   "file_extension": ".py",
   "mimetype": "text/x-python",
   "name": "python",
   "nbconvert_exporter": "python",
   "pygments_lexer": "ipython3",
   "version": "3.10.11"
  }
 },
 "nbformat": 4,
 "nbformat_minor": 2
}
